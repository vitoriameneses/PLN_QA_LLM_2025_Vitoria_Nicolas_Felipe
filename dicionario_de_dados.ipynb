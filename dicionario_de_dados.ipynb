{
 "cells": [
  {
   "cell_type": "code",
   "execution_count": null,
   "id": "40c1af44",
   "metadata": {},
   "outputs": [],
   "source": [
    "!pip install -q python-docx transformers sqlite-utils"
   ]
  },
  {
   "cell_type": "code",
   "execution_count": null,
   "id": "79b200b4",
   "metadata": {},
   "outputs": [],
   "source": [
    "import sqlite3\n",
    "import pandas as pd\n",
    "from docx import Document\n",
    "from transformers import pipeline, AutoTokenizer, AutoModelForSeq2SeqLM"
   ]
  },
  {
   "cell_type": "code",
   "execution_count": null,
   "id": "a2c6521e",
   "metadata": {},
   "outputs": [],
   "source": [
    "def extract_tables_from_docx(docx_path):\n",
    "    doc = Document(docx_path)\n",
    "    tables = []\n",
    "    for table in doc.tables:\n",
    "        rows = []\n",
    "        for row in table.rows:\n",
    "            rows.append([cell.text.strip() for cell in row.cells])\n",
    "        tables.append(pd.DataFrame(rows[1:], columns=rows[0]))\n",
    "    return tables"
   ]
  },
  {
   "cell_type": "code",
   "execution_count": null,
   "id": "9a987178",
   "metadata": {},
   "outputs": [],
   "source": [
    "def populate_sqlite(tables, db_path=\"dicionario.db\"):\n",
    "    conn = sqlite3.connect(db_path)\n",
    "    for i, df in enumerate(tables):\n",
    "        table_name = f\"tabela_{i}\"\n",
    "        df.to_sql(table_name, conn, if_exists=\"replace\", index=False)\n",
    "    return conn"
   ]
  },
  {
   "cell_type": "code",
   "execution_count": null,
   "id": "67f65e6a",
   "metadata": {},
   "outputs": [],
   "source": [
    "from google.colab import files\n",
    "uploaded = files.upload()\n",
    "docx_file = list(uploaded.keys())[0]"
   ]
  },
  {
   "cell_type": "code",
   "execution_count": null,
   "id": "1d36dc94",
   "metadata": {},
   "outputs": [],
   "source": [
    "tables = extract_tables_from_docx(docx_file)\n",
    "conn = populate_sqlite(tables)\n",
    "print(f\"{len(tables)} tabelas inseridas no banco.\")"
   ]
  },
  {
   "cell_type": "code",
   "execution_count": null,
   "id": "dc9a3e48",
   "metadata": {},
   "outputs": [],
   "source": [
    "def get_schema(conn):\n",
    "    query = \"SELECT name FROM sqlite_master WHERE type='table';\"\n",
    "    tables = pd.read_sql(query, conn)\n",
    "    for t in tables['name']:\n",
    "        df = pd.read_sql(f\"SELECT * FROM {t} LIMIT 3\", conn)\n",
    "        print(f\"📌 Tabela: {t}\")\n",
    "        print(df.head(), \"\\n\")"
   ]
  },
  {
   "cell_type": "code",
   "execution_count": null,
   "id": "8d949887",
   "metadata": {},
   "outputs": [],
   "source": [
    "model_id = \"google/flan-t5-base\"\n",
    "tokenizer = AutoTokenizer.from_pretrained(model_id)\n",
    "model = AutoModelForSeq2SeqLM.from_pretrained(model_id)\n",
    "llm = pipeline(\"text2text-generation\", model=model, tokenizer=tokenizer)\n",
    "\n"
   ]
  },
  {
   "cell_type": "code",
   "execution_count": null,
   "id": "b6235e6b",
   "metadata": {},
   "outputs": [],
   "source": [
    "def gerar_sql(pergunta, schema_hint=\"\"):\n",
    "    prompt = f\"\"\"\n",
    "Você é um assistente que transforma perguntas em linguagem natural em comandos SQL para SQLite.\n",
    "Contexto do banco de dados:\n",
    "{schema_hint}\n",
    "\n",
    "Pergunta: {pergunta}\n",
    "Resposta:\"\"\"\n",
    "    resposta = llm(prompt, max_new_tokens=128)[0]['generated_text']\n",
    "    return resposta.strip()\n"
   ]
  },
  {
   "cell_type": "code",
   "execution_count": null,
   "id": "ee888ece",
   "metadata": {},
   "outputs": [],
   "source": [
    "pergunta = \"Qual a descrição do campo CNS_PROF da tabela NFCES110?\"\n",
    "schema_text = \"\\n\".join(pd.read_sql(\"SELECT name FROM sqlite_master WHERE type='table';\", conn)['name'])\n",
    "sql = gerar_sql(pergunta, schema_hint=schema_text)\n",
    "print(\"🔎 SQL gerado:\", sql)\n",
    "\n",
    "try:\n",
    "    resultado = pd.read_sql(sql, conn)\n",
    "    display(resultado)\n",
    "except Exception as e:\n",
    "    print(\"Erro ao executar SQL:\", e)"
   ]
  },
  {
   "cell_type": "code",
   "execution_count": null,
   "id": "6ab69b01",
   "metadata": {},
   "outputs": [],
   "source": [
    "get_schema(conn)"
   ]
  }
 ],
 "metadata": {
  "language_info": {
   "name": "python"
  }
 },
 "nbformat": 4,
 "nbformat_minor": 5
}
